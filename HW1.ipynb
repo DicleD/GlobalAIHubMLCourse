{
 "cells": [
  {
   "cell_type": "code",
   "execution_count": null,
   "metadata": {},
   "outputs": [],
   "source": [
    "\"\"\"\n",
    "1) How would you define Machine Learning?\n",
    "\n",
    "ML is a subclass of artificial intelligence that collects any type of data, recognizes its patterns, learn from it and create a model\n",
    "until it can answer our questions about the data and data related subjects.\n",
    "\n",
    "2) What are the differences between Supervised and Unsupervised Learning? Specify example 3 algorithms for each of these.\n",
    "\n",
    "The difference is that unsupervised learning has no corresponding output although it has also an input(X).\n",
    "\n",
    "Supervised learning is the type that we use when we have a specific question for our data. For example; we want to know if the \n",
    "flights will be cancelled or not, due to some data we have(cancelled 1, or not 0), or we have some features to determine a group of people's\n",
    "genders and we are trying to predict it using our data(a boy 0, or a girl 1), or we want to estimate people's house prices due to\n",
    "some qualities that we create in our data's features to give our customer a last price for their houses.\n",
    "\n",
    "For unsupervised learning, we don't have a specific question to ask our data. Unsupervised learning mostly means \n",
    "clustering or assosiating the data. There is no specific result that our data needs to be used to reach, we just use it to have a\n",
    "deeper and better understanding of our data. For example; Spotify using their customers' playlists and analyze it to recommend more suitable\n",
    "songs or genres for a person(my dreamjob) or a hospital using their emergency service patients' data to understand how to advance their facilities\n",
    "or a customer clustering to be able to make a long term business plan.\"\"\""
   ]
  },
  {
   "cell_type": "code",
   "execution_count": null,
   "metadata": {},
   "outputs": [],
   "source": [
    "\"\"\"\n",
    "3) What are the test and validation set, and why would you want to use them?\n",
    "\n",
    "Validation set is actually a part of the training set. It is used during tuning for parameter selection to prevent overfitting \n",
    "because when we tune the model with the training dataset there is a chance it'll work with %100 accuracy.\n",
    "Test set is just used to test the final chosen model at the end of modeling so that we can fing the accuracy of our model.\"\"\""
   ]
  },
  {
   "cell_type": "code",
   "execution_count": null,
   "metadata": {},
   "outputs": [],
   "source": [
    "\"\"\"\n",
    "4) What are the main preprocessing steps? Explain them in detail. Why we need to prepare our data?\n",
    "\n",
    "We need to prepare our explored data for being able to create a model with it. Without a proper preparation, \n",
    "our model might not even work or might give completely wrong results.\n",
    "a. Filling missing values, we can't understand our data fully without filling or dismissing missing values. \n",
    "b. Detecting outliers and change or dismiss them\n",
    "c. Handling imbalanced data.\n",
    "d. Feature extraction. we can use different features to create new features to help our model\n",
    "e. Feature encoding. This is necessary for categorical features to be able to be used in the model. There are different encoding types\n",
    "and we should be careful to u"
   ]
  },
  {
   "cell_type": "code",
   "execution_count": null,
   "metadata": {},
   "outputs": [],
   "source": [
    "\"\"\"\n",
    "5) How you can explore continuous and discrete variables?\n",
    "\n",
    "For discrete variables, I use data visualization tools like bar or scatter, catplot graphs.Then it is important to understand the data's\n",
    "distribution to be able to do some preparations afterwards. value_counts() is also helpful to see discrete features\n",
    "For continuous variables, Histogram and line graphs, distplot boxplot could work better. describe() function is also used to understand the main \n",
    "properties. If we detect that we have some outliers, we can work on them.\"\"\""
   ]
  },
  {
   "cell_type": "code",
   "execution_count": null,
   "metadata": {},
   "outputs": [],
   "source": [
    "\"\"\"\n",
    "6) Analyse the plot given below. (What is the plot and variable type, check the distribution and make comment about how you can preproccess it.)\n",
    "\n",
    "This plot is a histogram and it is used to understand the frequency of the given data. In this case it belongs to a feature calles\n",
    "Petal width and it is a continuous variable. there are two top points of the distribution which means that there might be other\n",
    "variables that effect this feature. or the data might be noisy so we should understand more about it(if it has any outliers etc.)\n",
    "We can use boxplot and .describe() method to have a clearer understading of it.\"\"\""
   ]
  },
  {
   "cell_type": "code",
   "execution_count": null,
   "metadata": {},
   "outputs": [],
   "source": []
  },
  {
   "cell_type": "code",
   "execution_count": null,
   "metadata": {},
   "outputs": [],
   "source": []
  },
  {
   "cell_type": "code",
   "execution_count": null,
   "metadata": {},
   "outputs": [],
   "source": []
  },
  {
   "cell_type": "code",
   "execution_count": null,
   "metadata": {},
   "outputs": [],
   "source": []
  }
 ],
 "metadata": {
  "kernelspec": {
   "display_name": "Python 3",
   "language": "python",
   "name": "python3"
  },
  "language_info": {
   "codemirror_mode": {
    "name": "ipython",
    "version": 3
   },
   "file_extension": ".py",
   "mimetype": "text/x-python",
   "name": "python",
   "nbconvert_exporter": "python",
   "pygments_lexer": "ipython3",
   "version": "3.7.3"
  }
 },
 "nbformat": 4,
 "nbformat_minor": 2
}
